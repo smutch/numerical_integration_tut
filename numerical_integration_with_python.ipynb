{
 "cells": [
  {
   "cell_type": "markdown",
   "metadata": {},
   "source": [
    "# Numerical integration with Python"
   ]
  },
  {
   "cell_type": "markdown",
   "metadata": {},
   "source": [
    "**Author:** Simon Mutch  \n",
    "**Date:** 2017-08-02  \n",
    "\n",
    "---\n",
    "\n",
    "In this notebook we'll very briefly cover how to do simple numerical integration of a function with Python.\n",
    "\n",
    "I'm going to assume that you have some basic knowledge of Python, but don't worry if you don't.  This notebook is very simple and will act as a basic introduction in itself.  For a proper introduction to Python, the [Software Carpentry course](http://swcarpentry.github.io/python-novice-inflammation/) is a decent place to start.  \n",
    "\n",
    "There are a few prerequisite packages that we'll need for doing our simple numerical integration:\n",
    "\n",
    "* [Numpy](http://www.numpy.org) - \"the fundamental package for scientific computing with Python\"\n",
    "* [Scipy](https://scipy.org/scipylib/index.html) - \"many user-friendly and efficient numerical routines such as routines for numerical integration and optimization\"\n",
    "* [matplotlib](http://matplotlib.org) - \"Matplotlib is a Python 2D plotting library which produces publication quality figures in a variety of hardcopy formats and interactive environments\"\n",
    "\n",
    "Many Python environments will have these pre-installed.  If you get errors when trying to import them below, then the chances are they aren't installed in your current Python environment.  If this is the case, please see the installation instructions for each package by following the links above or, alternatively, consider trying the excellent [Anaconda distribution](https://www.continuum.io/what-is-anaconda) (recommended).\n",
    "\n",
    "For reference, here are the versions of the relevant packages used to create this notebook:\n",
    "\n",
    "> numpy 1.12.1  \n",
    "> scipy 0.19.0  \n",
    "> matplotlib 2.0.2  \n",
    "\n",
    "The first thing we need to do is import our packages..."
   ]
  },
  {
   "cell_type": "code",
   "execution_count": 1,
   "metadata": {
    "ExecuteTime": {
     "end_time": "2017-07-31T03:19:25.983576Z",
     "start_time": "2017-07-31T03:19:25.957074Z"
    }
   },
   "outputs": [],
   "source": [
    "# unfortunately the Windows machines in this lab only have Python v2 (not v3)\n",
    "# and so there are a couple of things we need to do to get everything to run smoothly...\n",
    "from __future__ import print_function, division\n",
    "\n",
    "# import the necessary packages\n",
    "import numpy as np\n",
    "import matplotlib.pyplot as plt\n",
    "from scipy import integrate\n",
    "\n",
    "# set a few options that will make the plots generated in this notebook look better\n",
    "%matplotlib inline\n",
    "%config InlineBackend.print_figure_kwargs={'bbox_inches': 'tight'}\n",
    "plt.rcParams['figure.dpi'] = 100"
   ]
  },
  {
   "cell_type": "markdown",
   "metadata": {},
   "source": [
    "## Setting up the problem\n",
    "\n",
    "Let's take a contrived example where we can easily calculate an analytic solution to check the validity of our result.\n",
    "\n",
    "Let's consider the area under a $\\sin$ wave between $\\theta=0$ and $\\pi$."
   ]
  },
  {
   "cell_type": "code",
   "execution_count": 2,
   "metadata": {
    "ExecuteTime": {
     "end_time": "2017-07-31T05:29:31.775651Z",
     "start_time": "2017-07-31T05:29:31.458200Z"
    }
   },
   "outputs": [
    {
     "data": {
      "image/png": "[encoded data removed]",
      "text/plain": [
       "<matplotlib.figure.Figure at 0x1047ab3d0>"
      ]
     },
     "metadata": {},
     "output_type": "display_data"
    }
   ],
   "source": [
    "theta = np.linspace(0, np.pi, 50)\n",
    "y = np.sin(theta)\n",
    "\n",
    "fig, ax = plt.subplots()\n",
    "ax.plot(theta, y)\n",
    "ax.fill_between(theta, y, alpha=0.5)\n",
    "ax.set(xlabel=r'$\\theta$', ylabel=r'$\\sin(\\theta)$', ylim=(0, 1.05));"
   ]
  },
  {
   "cell_type": "markdown",
   "metadata": {},
   "source": [
    "To numerically integrate this, we first define the function that we want to integrate.  In this case it's rather simple, however, in practice this could be an arbitrarily complex function."
   ]
  },
  {
   "cell_type": "code",
   "execution_count": 3,
   "metadata": {
    "ExecuteTime": {
     "end_time": "2017-07-31T05:34:47.265797Z",
     "start_time": "2017-07-31T05:34:47.259453Z"
    },
    "collapsed": true
   },
   "outputs": [],
   "source": [
    "def f(theta):\n",
    "    return np.sin(theta)"
   ]
  },
  {
   "cell_type": "markdown",
   "metadata": {},
   "source": [
    "Next we can use the [scipy.integrate](https://docs.scipy.org/doc/scipy/reference/integrate.html) module to do a simple numerical integration of this function.  Note that we imported this module as `integrate` above."
   ]
  },
  {
   "cell_type": "code",
   "execution_count": 4,
   "metadata": {
    "ExecuteTime": {
     "end_time": "2017-07-31T05:34:48.019591Z",
     "start_time": "2017-07-31T05:34:48.011858Z"
    }
   },
   "outputs": [
    {
     "name": "stdout",
     "output_type": "stream",
     "text": [
      "(2.0, 2.220446049250313e-14)\n"
     ]
    }
   ],
   "source": [
    "numerical_result = integrate.quad(f, 0, np.pi)\n",
    "print(numerical_result)"
   ]
  },
  {
   "cell_type": "markdown",
   "metadata": {},
   "source": [
    "The first number here is the result, whilst the second number is an estimate of the absolute error.  Let's throw away the latter."
   ]
  },
  {
   "cell_type": "code",
   "execution_count": 5,
   "metadata": {
    "ExecuteTime": {
     "end_time": "2017-07-31T05:36:00.039029Z",
     "start_time": "2017-07-31T05:36:00.033682Z"
    },
    "collapsed": true
   },
   "outputs": [],
   "source": [
    "numerical_result = numerical_result[0]"
   ]
  },
  {
   "cell_type": "markdown",
   "metadata": {},
   "source": [
    "Lastly, lets compare this with the analytic solution."
   ]
  },
  {
   "cell_type": "code",
   "execution_count": 6,
   "metadata": {
    "ExecuteTime": {
     "end_time": "2017-07-31T05:41:49.832624Z",
     "start_time": "2017-07-31T05:41:49.823252Z"
    }
   },
   "outputs": [
    {
     "name": "stdout",
     "output_type": "stream",
     "text": [
      "The analytic result is 2.00\n",
      "Identical to numerical result within available precision?  True\n"
     ]
    }
   ],
   "source": [
    "analytic_result = -np.cos(np.pi) + np.cos(0)\n",
    "print(\"The analytic result is {:.2f}\".format(analytic_result))\n",
    "print(\"Identical to numerical result within available precision? \", np.isclose(analytic_result, numerical_result))"
   ]
  },
  {
   "cell_type": "markdown",
   "metadata": {},
   "source": [
    "Here we used the `scipy.integrate.quad` function to do a simple integration over a single variable.  However, if you have a look at the documentation for the [scipy.integrate](https://docs.scipy.org/doc/scipy/reference/integrate.html) module you'll see that there are also functions available for double integrals, triple integrals and integrals over multiple variables.  There are functions for approximating integrals from fixed sampled points too!"
   ]
  },
  {
   "cell_type": "markdown",
   "metadata": {},
   "source": [
    "#### Added bonus\n",
    "\n",
    "Check out the [ODE solver](https://docs.scipy.org/doc/scipy/reference/generated/scipy.integrate.odeint.html#scipy.integrate.odeint) in `scipy.integrate`.  To get a feel for how it works, try to implement a solver for a simple pendulum."
   ]
  }
 ],
 "metadata": {
  "hide_input": false,
  "kernelspec": {
   "display_name": "Python 2",
   "language": "python",
   "name": "python2"
  },
  "language_info": {
   "codemirror_mode": {
    "name": "ipython",
    "version": 2
   },
   "file_extension": ".py",
   "mimetype": "text/x-python",
   "name": "python",
   "nbconvert_exporter": "python",
   "pygments_lexer": "ipython2",
   "version": "2.7.13"
  },
  "latex_envs": {
   "LaTeX_envs_menu_present": true,
   "autocomplete": true,
   "bibliofile": "biblio.bib",
   "cite_by": "apalike",
   "current_citInitial": 1,
   "eqLabelWithNumbers": true,
   "eqNumInitial": 1,
   "hotkeys": {
    "equation": "Ctrl-E",
    "itemize": "Ctrl-I"
   },
   "labels_anchors": false,
   "latex_user_defs": false,
   "report_style_numbering": false,
   "user_envs_cfg": false
  },
  "toc": {
   "colors": {
    "hover_highlight": "#DAA520",
    "navigate_num": "#000000",
    "navigate_text": "#333333",
    "running_highlight": "#FF0000",
    "selected_highlight": "#FFD700",
    "sidebar_border": "#EEEEEE",
    "wrapper_background": "#FFFFFF"
   },
   "moveMenuLeft": true,
   "nav_menu": {
    "height": "52px",
    "width": "254px"
   },
   "navigate_menu": true,
   "number_sections": false,
   "sideBar": true,
   "threshold": 4,
   "toc_cell": false,
   "toc_section_display": "block",
   "toc_window_display": false,
   "widenNotebook": false
  }
 },
 "nbformat": 4,
 "nbformat_minor": 2
}
